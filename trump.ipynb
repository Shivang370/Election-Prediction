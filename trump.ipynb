{
 "cells": [
  {
   "cell_type": "code",
   "execution_count": 3,
   "metadata": {},
   "outputs": [],
   "source": [
    "from builtins import range\n",
    "import re\n",
    "import numpy as np\n",
    "import pandas as pd\n",
    "import matplotlib.pyplot as plt\n",
    "from scipy.spatial.distance import pdist\n",
    "from scipy.cluster.hierarchy import dendrogram,linkage,fcluster\n",
    "from sklearn.feature_extraction.text import TfidfVectorizer\n",
    "\n",
    "\n",
    "\n",
    "\n"
   ]
  },
  {
   "cell_type": "code",
   "execution_count": 4,
   "metadata": {},
   "outputs": [],
   "source": [
    "url_finder=re.compile(r\"(?:\\@|https?\\://)\\S+\")"
   ]
  },
  {
   "cell_type": "code",
   "execution_count": 5,
   "metadata": {},
   "outputs": [],
   "source": [
    "def filter_tweets(s):\n",
    "    s =s.lower()\n",
    "    s=url_finder.sub(\"\",s)\n",
    "    return s\n",
    "\n",
    "    "
   ]
  },
  {
   "cell_type": "code",
   "execution_count": 6,
   "metadata": {
    "scrolled": true
   },
   "outputs": [],
   "source": [
    "df=pd.read_csv('tweets.csv')"
   ]
  },
  {
   "cell_type": "code",
   "execution_count": 7,
   "metadata": {},
   "outputs": [],
   "source": [
    "stopwords=['the','about','an','and','are','at','be','can','for','from','if','in','is','it','of','on','or','that','this','to','you','your','with']"
   ]
  },
  {
   "cell_type": "code",
   "execution_count": 8,
   "metadata": {},
   "outputs": [],
   "source": [
    "text=df.text.tolist()\n",
    "text=[filter_tweets(s) for s in text]\n",
    "tfidf=TfidfVectorizer(max_features=100,stop_words=stopwords)\n",
    "X=tfidf.fit_transform(text).todense()\n"
   ]
  },
  {
   "cell_type": "code",
   "execution_count": 9,
   "metadata": {},
   "outputs": [],
   "source": [
    "N=X.shape[0]\n",
    "idx=np.random.choice(N,size=2000,replace=False)\n",
    "x=X[idx]\n",
    "labels=df.handle[idx].tolist()\n",
    "pTrump = sum(1.0 if e == 'realDonaldTrump' else 0.0 for e in labels) /len(labels)\n"
   ]
  },
  {
   "cell_type": "code",
   "execution_count": 10,
   "metadata": {
    "scrolled": true
   },
   "outputs": [
    {
     "name": "stdout",
     "output_type": "stream",
     "text": [
      "proportion @realDonaldTrump: 0.503\n",
      "proportion @HillaryClinton: 0.497\n"
     ]
    },
    {
     "data": {
      "image/png": "[encoded data removed]",
      "text/plain": [
       "<Figure size 432x288 with 1 Axes>"
      ]
     },
     "metadata": {
      "needs_background": "light"
     },
     "output_type": "display_data"
    }
   ],
   "source": [
    "print(\"proportion @realDonaldTrump: %.3f\" % pTrump)\n",
    "print(\"proportion @HillaryClinton: %.3f\" % (1- pTrump))\n",
    "dist_array=pdist(x)\n",
    "Z=linkage(dist_array,'ward')\n",
    "plt.title(\"Ward\")\n",
    "dendrogram(Z, labels=labels)\n",
    "plt.show()"
   ]
  },
  {
   "cell_type": "code",
   "execution_count": 11,
   "metadata": {},
   "outputs": [
    {
     "name": "stdout",
     "output_type": "stream",
     "text": [
      "values in C: {1, 2}\n",
      "purity: 0.554\n"
     ]
    }
   ],
   "source": [
    "Y=np.array([1 if e == 'realDonaldTrump' else 2 for e in labels])\n",
    "C=fcluster(Z,9,criterion='distance')\n",
    "categories= set(C)\n",
    "print(\"values in C:\", categories)\n",
    "def purity(true_labels,cluster_assignments, categories):\n",
    "  N= len(true_labels)\n",
    "\n",
    "  total = 0.0\n",
    "  for k in categories:\n",
    "    max_intersection= 0\n",
    "    for j in categories:\n",
    "     intersection=((cluster_assignments==k)&(true_labels==j)).sum()\n",
    "     if intersection>max_intersection:\n",
    "        max_intersection=intersection\n",
    "    total+=max_intersection\n",
    "  return total/N\n",
    "print(\"purity:\",purity(Y,C,categories))"
   ]
  },
  {
   "cell_type": "code",
   "execution_count": 12,
   "metadata": {},
   "outputs": [
    {
     "name": "stdout",
     "output_type": "stream",
     "text": [
      "purity of @realDonaldTrump cluster: 0.9457364341085271\n",
      "purity of @HillaryClinton cluster: 0.5269909139497595\n",
      "Classifier score: 0.9553072625698324\n"
     ]
    }
   ],
   "source": [
    "if(C==1).sum()<(C==2).sum():\n",
    "    d=1\n",
    "    h=2\n",
    "else:\n",
    "    d=2\n",
    "    h=1\n",
    "    \n",
    "actually_donald=((C==d)&(Y==1)).sum()\n",
    "donald_cluster_size=(C==d).sum()\n",
    "print(\"purity of @realDonaldTrump cluster:\", float(actually_donald) / donald_cluster_size)\n",
    "actually_hillary=((C==h)&(Y==2)).sum()\n",
    "hillary_cluster_size=(C==h).sum()\n",
    "print(\"purity of @HillaryClinton cluster:\", float(actually_hillary) / hillary_cluster_size)\n",
    "from sklearn.ensemble import RandomForestClassifier\n",
    "rf=RandomForestClassifier()\n",
    "rf.fit(X,df.handle)\n",
    "print(\"Classifier score:\", rf.score(X,df.handle))\n"
   ]
  },
  {
   "cell_type": "code",
   "execution_count": 13,
   "metadata": {},
   "outputs": [],
   "source": [
    "w2i=tfidf.vocabulary_\n",
    "d_avg=np.array(x[C==d].mean(axis=0)).flatten()\n"
   ]
  },
  {
   "cell_type": "code",
   "execution_count": 14,
   "metadata": {},
   "outputs": [
    {
     "name": "stdout",
     "output_type": "stream",
     "text": [
      "dict_keys(['who', 'will', 'make', 'last', 'donald', 'trump', 'said', 'not', 'was', 'know', 'what', 'more', 'her', 'she', 'our', 'we', 'together', 'there', 'do', 're', 'vote', 'how', 'they', 'only', 'one', 'join', 'me', 'america', 'out', 'go', 'when', 'again', 'have', 'by', 'people', 'today', 'has', 'just', 'so', 'makeamericagreatagain', 'hillary', 'clinton', 'campaign', 'time', 'first', 'american', 'great', 'thank', 'day', 'going', 'like', 'president', 'country', 'want', 'don', 'other', 'big', 'my', 'he', 'but', 'would', 'families', 'their', 'should', 'never', 'than', 'now', 'all', 'been', 'americans', 'amp', 'every', 'get', 'good', 'let', 'crooked', 'many', 'why', 'them', 'new', 'tonight', 'watch', 'win', 'as', 'his', 'up', 'us', 'need', 'much', 'no', 'here', 'back', 'him', 'women', 'see', 'very', 'am', 'ted', 'cruz', 'trump2016'])\n"
     ]
    }
   ],
   "source": [
    "print(w2i.keys())"
   ]
  },
  {
   "cell_type": "code",
   "execution_count": 15,
   "metadata": {},
   "outputs": [],
   "source": [
    "d_sorted=sorted(w2i.keys(),key=lambda w:-d_avg[w2i[w]])"
   ]
  },
  {
   "cell_type": "code",
   "execution_count": 16,
   "metadata": {},
   "outputs": [
    {
     "name": "stdout",
     "output_type": "stream",
     "text": [
      "\n",
      "Top 10'Donald cluster' words:\n",
      "thank\n",
      "makeamericagreatagain\n",
      "trump2016\n",
      "new\n",
      "get\n",
      "great\n",
      "out\n",
      "will\n",
      "today\n",
      "hillary\n"
     ]
    }
   ],
   "source": [
    "print(\"\\nTop 10'Donald cluster' words:\")\n",
    "print(\"\\n\".join(d_sorted[:10]))\n",
    "h_avg=np.array(x[C==h].mean(axis=0)).flatten()\n",
    "h_sorted=sorted(w2i.keys(),key=lambda w:-h_avg[w2i[w]])\n"
   ]
  }
 ],
 "metadata": {
  "kernelspec": {
   "display_name": "Python 3",
   "language": "python",
   "name": "python3"
  },
  "language_info": {
   "codemirror_mode": {
    "name": "ipython",
    "version": 3
   },
   "file_extension": ".py",
   "mimetype": "text/x-python",
   "name": "python",
   "nbconvert_exporter": "python",
   "pygments_lexer": "ipython3",
   "version": "3.7.3"
  }
 },
 "nbformat": 4,
 "nbformat_minor": 2
}
